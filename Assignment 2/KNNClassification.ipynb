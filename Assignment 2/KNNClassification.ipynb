{
 "cells": [
  {
   "cell_type": "code",
   "execution_count": 7,
   "id": "initial_id",
   "metadata": {
    "ExecuteTime": {
     "end_time": "2023-10-05T22:37:59.731001Z",
     "start_time": "2023-10-05T22:37:59.221151Z"
    }
   },
   "outputs": [],
   "source": [
    "#import numpy as np\n",
    "import pandas as pd\n",
    "from sklearn.model_selection import train_test_split\n",
    "from sklearn.neighbors import KNeighborsClassifier\n",
    "from sklearn.metrics import accuracy_score"
   ]
  },
  {
   "cell_type": "markdown",
   "id": "0f3a3b70-383b-4f91-9208-50e3cd8aa8d3",
   "metadata": {},
   "source": [
    "### Part A\n",
    "\n",
    "#### This section reads the file and assigns it to Pandas dataframe to order to manipulate it later"
   ]
  },
  {
   "cell_type": "code",
   "execution_count": 8,
   "id": "14f38b6f-0f68-4ebd-91dc-c9d5e4d124f4",
   "metadata": {},
   "outputs": [
    {
     "data": {
      "text/html": [
       "<div>\n",
       "<style scoped>\n",
       "    .dataframe tbody tr th:only-of-type {\n",
       "        vertical-align: middle;\n",
       "    }\n",
       "\n",
       "    .dataframe tbody tr th {\n",
       "        vertical-align: top;\n",
       "    }\n",
       "\n",
       "    .dataframe thead th {\n",
       "        text-align: right;\n",
       "    }\n",
       "</style>\n",
       "<table border=\"1\" class=\"dataframe\">\n",
       "  <thead>\n",
       "    <tr style=\"text-align: right;\">\n",
       "      <th></th>\n",
       "      <th>sepal_length</th>\n",
       "      <th>sepal_width</th>\n",
       "      <th>petal_length</th>\n",
       "      <th>petal_width</th>\n",
       "      <th>species</th>\n",
       "    </tr>\n",
       "  </thead>\n",
       "  <tbody>\n",
       "    <tr>\n",
       "      <th>0</th>\n",
       "      <td>5.1</td>\n",
       "      <td>3.5</td>\n",
       "      <td>1.4</td>\n",
       "      <td>0.2</td>\n",
       "      <td>setosa</td>\n",
       "    </tr>\n",
       "    <tr>\n",
       "      <th>1</th>\n",
       "      <td>4.9</td>\n",
       "      <td>3.0</td>\n",
       "      <td>1.4</td>\n",
       "      <td>0.2</td>\n",
       "      <td>setosa</td>\n",
       "    </tr>\n",
       "    <tr>\n",
       "      <th>2</th>\n",
       "      <td>4.7</td>\n",
       "      <td>3.2</td>\n",
       "      <td>1.3</td>\n",
       "      <td>0.2</td>\n",
       "      <td>setosa</td>\n",
       "    </tr>\n",
       "    <tr>\n",
       "      <th>3</th>\n",
       "      <td>4.6</td>\n",
       "      <td>3.1</td>\n",
       "      <td>1.5</td>\n",
       "      <td>0.2</td>\n",
       "      <td>setosa</td>\n",
       "    </tr>\n",
       "    <tr>\n",
       "      <th>4</th>\n",
       "      <td>5.0</td>\n",
       "      <td>3.6</td>\n",
       "      <td>1.4</td>\n",
       "      <td>0.2</td>\n",
       "      <td>setosa</td>\n",
       "    </tr>\n",
       "    <tr>\n",
       "      <th>...</th>\n",
       "      <td>...</td>\n",
       "      <td>...</td>\n",
       "      <td>...</td>\n",
       "      <td>...</td>\n",
       "      <td>...</td>\n",
       "    </tr>\n",
       "    <tr>\n",
       "      <th>145</th>\n",
       "      <td>6.7</td>\n",
       "      <td>3.0</td>\n",
       "      <td>5.2</td>\n",
       "      <td>2.3</td>\n",
       "      <td>virginica</td>\n",
       "    </tr>\n",
       "    <tr>\n",
       "      <th>146</th>\n",
       "      <td>6.3</td>\n",
       "      <td>2.5</td>\n",
       "      <td>5.0</td>\n",
       "      <td>1.9</td>\n",
       "      <td>virginica</td>\n",
       "    </tr>\n",
       "    <tr>\n",
       "      <th>147</th>\n",
       "      <td>6.5</td>\n",
       "      <td>3.0</td>\n",
       "      <td>5.2</td>\n",
       "      <td>2.0</td>\n",
       "      <td>virginica</td>\n",
       "    </tr>\n",
       "    <tr>\n",
       "      <th>148</th>\n",
       "      <td>6.2</td>\n",
       "      <td>3.4</td>\n",
       "      <td>5.4</td>\n",
       "      <td>2.3</td>\n",
       "      <td>virginica</td>\n",
       "    </tr>\n",
       "    <tr>\n",
       "      <th>149</th>\n",
       "      <td>5.9</td>\n",
       "      <td>3.0</td>\n",
       "      <td>5.1</td>\n",
       "      <td>1.8</td>\n",
       "      <td>virginica</td>\n",
       "    </tr>\n",
       "  </tbody>\n",
       "</table>\n",
       "<p>150 rows × 5 columns</p>\n",
       "</div>"
      ],
      "text/plain": [
       "     sepal_length  sepal_width  petal_length  petal_width    species\n",
       "0             5.1          3.5           1.4          0.2     setosa\n",
       "1             4.9          3.0           1.4          0.2     setosa\n",
       "2             4.7          3.2           1.3          0.2     setosa\n",
       "3             4.6          3.1           1.5          0.2     setosa\n",
       "4             5.0          3.6           1.4          0.2     setosa\n",
       "..            ...          ...           ...          ...        ...\n",
       "145           6.7          3.0           5.2          2.3  virginica\n",
       "146           6.3          2.5           5.0          1.9  virginica\n",
       "147           6.5          3.0           5.2          2.0  virginica\n",
       "148           6.2          3.4           5.4          2.3  virginica\n",
       "149           5.9          3.0           5.1          1.8  virginica\n",
       "\n",
       "[150 rows x 5 columns]"
      ]
     },
     "execution_count": 8,
     "metadata": {},
     "output_type": "execute_result"
    }
   ],
   "source": [
    "#Read the iris flower dataset and assign it to a Pandas DataFrame as you learned in tutorial Lab2-3. \n",
    "f = pd.read_csv('https://github.com/mpourhoma/CS4661/raw/master/iris.csv')\n",
    "\n",
    "f"
   ]
  },
  {
   "cell_type": "markdown",
   "id": "a69f4905-085d-471c-92a1-868a9cc2ee13",
   "metadata": {},
   "source": [
    "### Part B\n",
    "#### This sections splits the data set into testing and training sets, then prints the results"
   ]
  },
  {
   "cell_type": "code",
   "execution_count": 9,
   "id": "f56feca1-a184-4f02-800d-df406e51eb27",
   "metadata": {},
   "outputs": [],
   "source": [
    "# Features excluding the target column\n",
    "X = f.drop('species', axis=1)\n",
    "y = f['species']"
   ]
  },
  {
   "cell_type": "code",
   "execution_count": 10,
   "id": "ac87a5fb-9388-4788-b7fb-0f84578da512",
   "metadata": {},
   "outputs": [],
   "source": [
    "#Split the dataset into testing and training sets with parameters: test_size=0.4, random_state=10\n",
    "X_train, X_test, y_train, y_test = train_test_split(X, y, test_size=0.4, random_state=10)"
   ]
  },
  {
   "cell_type": "code",
   "execution_count": 11,
   "id": "f8cfbbfe-6978-463f-94d6-15d09b358149",
   "metadata": {},
   "outputs": [
    {
     "name": "stdout",
     "output_type": "stream",
     "text": [
      "Training set shape (X_train, y_train): (90, 4) (90,)\n",
      "Testing set shape (X_test, y_test): (60, 4) (60,)\n"
     ]
    }
   ],
   "source": [
    "print(\"Training set shape (X_train, y_train):\", X_train.shape, y_train.shape)\n",
    "print(\"Testing set shape (X_test, y_test):\", X_test.shape, y_test.shape)"
   ]
  },
  {
   "cell_type": "markdown",
   "id": "e4433d52-7f56-4085-bbe1-b01b31b108c4",
   "metadata": {},
   "source": [
    "### Part C\n",
    "#### This section instantiates a KNN object with K=3, It calculate the accuracy of the prediction"
   ]
  },
  {
   "cell_type": "code",
   "execution_count": 12,
   "id": "d1ed34d8-d604-4395-847d-e9ae1a5864e2",
   "metadata": {},
   "outputs": [],
   "source": [
    "#Instantiate a KNN object with K=3\n",
    "k = 3\n",
    "knn = KNeighborsClassifier(n_neighbors=k, weights = 'uniform')"
   ]
  },
  {
   "cell_type": "code",
   "execution_count": 13,
   "id": "5246778a-f0a0-4cde-88e8-45bc874bd439",
   "metadata": {},
   "outputs": [],
   "source": [
    "#train it on the training set and test it on the testing set. \n",
    "knn.fit(X_train, y_train)\n",
    "y_pred = knn.predict(X_test)"
   ]
  },
  {
   "cell_type": "code",
   "execution_count": 14,
   "id": "d3c6c572-9125-4bcb-b89a-52c7670d1b82",
   "metadata": {},
   "outputs": [
    {
     "name": "stdout",
     "output_type": "stream",
     "text": [
      "0.9333333333333333\n"
     ]
    }
   ],
   "source": [
    "#Then, calculate the accuracy of your prediction\n",
    "accuracy = accuracy_score(y_test, y_pred)\n",
    "print(accuracy)"
   ]
  },
  {
   "cell_type": "markdown",
   "id": "38920a4a-e205-4558-a5c9-b0a74d918150",
   "metadata": {},
   "source": [
    "### Part D\n",
    "#### This section is a repition of part c but for multiple k values rather than a single value"
   ]
  },
  {
   "cell_type": "code",
   "execution_count": 15,
   "id": "08e41a50-cb42-48d2-83d6-da78c16ffdb6",
   "metadata": {},
   "outputs": [],
   "source": [
    "# Repeat part (c) for K=1, K=3, K=5, K=11, K=15, K=27, K=43 \n",
    "k_values = [1, 3, 5, 11, 15, 27, 43]\n",
    "accuracy_scores = []"
   ]
  },
  {
   "cell_type": "code",
   "execution_count": 16,
   "id": "d6aed646-f1b7-47f1-a66d-e024c4c7d807",
   "metadata": {},
   "outputs": [
    {
     "name": "stdout",
     "output_type": "stream",
     "text": [
      "Accuracy for K = 1: 0.9166666666666666\n",
      "Accuracy for K = 3: 0.9333333333333333\n",
      "Accuracy for K = 5: 0.95\n",
      "Accuracy for K = 11: 0.9666666666666667\n",
      "Accuracy for K = 15: 0.95\n",
      "Accuracy for K = 27: 0.95\n",
      "Accuracy for K = 43: 0.9166666666666666\n"
     ]
    }
   ],
   "source": [
    "# use a “for loop,” and save the final accuracy results in a list\n",
    "for k in k_values:\n",
    "    knn = KNeighborsClassifier(n_neighbors=k, weights='uniform')\n",
    "    knn.fit(X_train, y_train)\n",
    "    y_pred = knn.predict(X_test)\n",
    "    accuracy = accuracy_score(y_test, y_pred)\n",
    "    accuracy_scores.append(accuracy)\n",
    "    print(f\"Accuracy for K = {k}: {accuracy}\")"
   ]
  },
  {
   "cell_type": "markdown",
   "id": "098f4980-92a9-4aa4-a05b-0295a7837821",
   "metadata": {},
   "source": [
    "**Question: Does the accuracy always get better by increasing the value K?**\n",
    "**Answer: The accueact does not always get better when the value of K in increased. The accuracy seems to stay withing the same range**"
   ]
  },
  {
   "cell_type": "markdown",
   "id": "89d1ae37-bbea-4c81-ace3-ea1dd944bd8e",
   "metadata": {},
   "source": [
    "### Part E\n",
    "#### This section makes a prediction based on only ONE single feature by trying every feature individually. \n",
    "#### This is similar to part C with K=11, four times (each time using only one of the 4 features), and computes the accuracy each time. Then, check the accuracies.  "
   ]
  },
  {
   "cell_type": "code",
   "execution_count": 17,
   "id": "3bec30fb-f223-48c4-af0d-f46799832ed1",
   "metadata": {},
   "outputs": [],
   "source": [
    "# Initializing a list to store accuracy scores\n",
    "single_feature_accuracies = []"
   ]
  },
  {
   "cell_type": "code",
   "execution_count": 18,
   "id": "c774db11-7f3a-4ef8-81eb-af6ca83c1811",
   "metadata": {},
   "outputs": [],
   "source": [
    "# Initializing variables representing the name and accuracy of the first best feature\n",
    "first_best_feature_name = None\n",
    "first_best_feature_accuracy = 0.0"
   ]
  },
  {
   "cell_type": "code",
   "execution_count": 19,
   "id": "8dae6b5b-efcd-4c16-b84f-c46d00d62700",
   "metadata": {},
   "outputs": [],
   "source": [
    "# Initializing variables representing the name and accuracy of the second best feature\n",
    "second_best_feature_name = None\n",
    "second_best_feature_accuracy = 0.0"
   ]
  },
  {
   "cell_type": "code",
   "execution_count": 23,
   "id": "92208ff5-b983-4a8e-8e65-64ea63bbc179",
   "metadata": {},
   "outputs": [
    {
     "name": "stdout",
     "output_type": "stream",
     "text": [
      "Accuracy for K = sepal_length: 0.6166666666666667\n",
      "Accuracy for K = sepal_width: 0.5166666666666667\n",
      "Accuracy for K = petal_length: 0.9333333333333333\n",
      "Accuracy for K = petal_width: 0.95\n"
     ]
    }
   ],
   "source": [
    "# For loop that iterates through each feature individually\n",
    "for feature in X.columns:\n",
    "    # picking the single feature\n",
    "    X_single_feature = X[[feature]]\n",
    "    # Training it on the training set\n",
    "    X_train, X_test, y_train, y_test = train_test_split(X_single_feature, y, test_size=0.4, random_state=10)\n",
    "    # Instantiating a KNN object with K neighbors\n",
    "    knn = KNeighborsClassifier(n_neighbors=11, weights='uniform')\n",
    "    #training it on the training set\n",
    "    knn.fit(X_train, y_train)\n",
    "    #testing it on the testing set\n",
    "    y_pred = knn.predict(X_test)\n",
    "    # Calculating the accuracy \n",
    "    accuracy = accuracy_score(y_test, y_pred)\n",
    "    # Conditions to display the the accuracy scores of each vest feature\n",
    "    if accuracy >= first_best_feature_accuracy:\n",
    "        second_best_feature_name = first_best_feature_name\n",
    "        second_best_feature_accuracy = first_best_feature_accuracy\n",
    "        first_best_feature_name = feature\n",
    "        first_best_feature_accuracy = accuracy\n",
    "    elif accuracy >= second_best_feature_accuracy:\n",
    "        second_best_feature_name = feature\n",
    "        second_best_feature_accuracy = accuracy\n",
    "    print(f\"Accuracy for K = {feature}: {accuracy}\")"
   ]
  },
  {
   "cell_type": "code",
   "execution_count": 30,
   "id": "4ef56448-25f8-4774-add4-52a6dc0d42dd",
   "metadata": {},
   "outputs": [
    {
     "name": "stdout",
     "output_type": "stream",
     "text": [
      "First Best Single Feature: petal_width\n",
      "Second Best Single Feature: petal_width\n"
     ]
    }
   ],
   "source": [
    "# Printing the first and second best feature\n",
    "print(\"First Best Single Feature:\", first_best_feature_name)\n",
    "print(\"Second Best Single Feature:\", second_best_feature_name)"
   ]
  },
  {
   "cell_type": "markdown",
   "id": "4cbfcde6-2701-4bf9-b269-1bf73233a272",
   "metadata": {},
   "source": [
    "**Question: Which individual feature provide the best accuracy (the best feature)?  Which one is the second best feature?\n",
    "Answer: The individual feature that provided the best accuracy was petal_width with a 95.02%. The second best feature was petal_length with a 95.01%.**"
   ]
  },
  {
   "cell_type": "markdown",
   "id": "25a9c508-ad03-475b-a663-1a910f2fe405",
   "metadata": {},
   "source": [
    "### Part F\n",
    "#### This section is similar to part E (with K=11), this time using two features. you have to train, test, and evaluate your model for 6 different cases: using (1st and 2nd features), (1st and 3rd features), (1st and 4th  features), (2nd  and 3rd  features), (2nd and 4th features), (3rd and 4th  features)!     "
   ]
  },
  {
   "cell_type": "code",
   "execution_count": 38,
   "id": "ab3e0540-898f-4993-b39b-76e3c9f51bf6",
   "metadata": {},
   "outputs": [],
   "source": [
    "best_feature_pair = None\n",
    "best_accuracy = 0"
   ]
  },
  {
   "cell_type": "code",
   "execution_count": 39,
   "id": "a3d18fda-cfa5-469a-add4-1e1cc1ba6f7c",
   "metadata": {},
   "outputs": [],
   "source": [
    "# Initializing feature pairs\n",
    "feature_pairs = []\n",
    "features = X.columns"
   ]
  },
  {
   "cell_type": "code",
   "execution_count": 45,
   "id": "82e83a43-cdb8-42ad-bd12-8fa921e96239",
   "metadata": {},
   "outputs": [],
   "source": [
    "# Outer for loop iterates through features at index 0 to len-1\n",
    "for i in range(len(features) - 1):\n",
    "    # Inner for loop iterates through fetaures at index 1 to len\n",
    "    for j in range(i + 1, len(features)):\n",
    "        # Represents feature pairs\n",
    "        feature_pairs.append((features[i], features[j]))"
   ]
  },
  {
   "cell_type": "code",
   "execution_count": 48,
   "id": "477feb2d-fad7-43ba-888a-2174c4a74b02",
   "metadata": {},
   "outputs": [
    {
     "name": "stdout",
     "output_type": "stream",
     "text": [
      "Accuracy for feature pair ('sepal_length', 'sepal_width'): 0.7166666666666667\n",
      "Accuracy for feature pair ('sepal_length', 'petal_length'): 0.9166666666666666\n",
      "Accuracy for feature pair ('sepal_length', 'petal_width'): 0.9\n",
      "Accuracy for feature pair ('sepal_width', 'petal_length'): 0.95\n",
      "Accuracy for feature pair ('sepal_width', 'petal_width'): 0.9666666666666667\n",
      "Accuracy for feature pair ('petal_length', 'petal_width'): 0.95\n"
     ]
    }
   ],
   "source": [
    "# For loop to iterate throught each pair\n",
    "for feature_pair in feature_pairs:\n",
    "    # Representing a pair\n",
    "    feature1, feature2 = feature_pair\n",
    "    X_pair_features = X[[feature1, feature2]]\n",
    "    X_train, X_test, y_train, y_test = train_test_split(X_pair_features, y, test_size=0.4, random_state=10)\n",
    "\n",
    "    # Initializinf knn object with k neighbors, training it on the training set and testing it on the testing set\n",
    "    knn = KNeighborsClassifier(n_neighbors=11, weights='uniform')\n",
    "    knn.fit(X_train, y_train)\n",
    "    y_pred = knn.predict(X_test)\n",
    "\n",
    "    # Calculating the accuracy and printingthe results\n",
    "    accuracy = accuracy_score(y_test, y_pred)\n",
    "    print(f\"Accuracy for feature pair {feature_pair}: {accuracy}\")\n",
    "\n",
    "    # consition to track the pair with the highest accuracy as for loop iterates\n",
    "    if accuracy > best_accuracy:\n",
    "        best_accuracy = accuracy\n",
    "        best_feature_pair = feature_pair"
   ]
  },
  {
   "cell_type": "code",
   "execution_count": 49,
   "id": "8bc6f45d-8651-47dd-8e09-7d4fde904eff",
   "metadata": {
    "ExecuteTime": {
     "end_time": "2023-10-07T04:04:53.838830Z",
     "start_time": "2023-10-07T04:04:53.511346Z"
    }
   },
   "outputs": [
    {
     "name": "stdout",
     "output_type": "stream",
     "text": [
      "Best feature pair: ('sepal_width', 'petal_width') with accuracy: 0.9666666666666667\n"
     ]
    }
   ],
   "source": [
    "#Printing the best feature \n",
    "print(f\"Best feature pair: {best_feature_pair} with accuracy: {best_accuracy}\")"
   ]
  },
  {
   "cell_type": "markdown",
   "id": "89e09a72-3520-4c65-920e-450c582d88e1",
   "metadata": {},
   "source": [
    "### PART G:\n",
    "#### Does the “best feature pair” from part (f) contain of both “first best feature” and “second best feature” from part (e)? In other word, can we conclude that the “best two features” for classification are the first best feature along with the second best feature together?\n",
    "#### Justify your answer. If yes, why?  If no, why not?"
   ]
  },
  {
   "cell_type": "code",
   "execution_count": null,
   "id": "8e4b708e-bfb9-4c78-8827-51d0f62efa20",
   "metadata": {},
   "outputs": [],
   "source": [
    "**The optimal feature pair from part f did not contain either the first best feature or the second  best feature from part E**\n",
    "**This means that despite a strong prediction of an indiviual feature, "
   ]
  }
 ],
 "metadata": {
  "kernelspec": {
   "display_name": "Python 3 (ipykernel)",
   "language": "python",
   "name": "python3"
  },
  "language_info": {
   "codemirror_mode": {
    "name": "ipython",
    "version": 3
   },
   "file_extension": ".py",
   "mimetype": "text/x-python",
   "name": "python",
   "nbconvert_exporter": "python",
   "pygments_lexer": "ipython3",
   "version": "3.11.3"
  }
 },
 "nbformat": 4,
 "nbformat_minor": 5
}
