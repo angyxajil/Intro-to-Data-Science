{
 "cells": [
  {
   "cell_type": "code",
   "execution_count": 1,
   "id": "1324d982-f95f-4ba3-b291-e7c5cf9ddf59",
   "metadata": {},
   "outputs": [],
   "source": [
    "import pandas as pd\n",
    "from sklearn.neighbors import KNeighborsClassifier\n",
    "from sklearn.model_selection import train_test_split\n",
    "from sklearn.metrics import accuracy_score\n",
    "from sklearn.metrics import f1_score\n",
    "from sklearn.preprocessing import StandardScaler\n",
    "from sklearn.linear_model import LinearRegression"
   ]
  },
  {
   "cell_type": "markdown",
   "id": "1152454a-f3c8-40b0-a526-13deca4319ff",
   "metadata": {},
   "source": [
    "## Part A ##\n",
    "\n",
    "**Read the dataset file “Credit.csv”**"
   ]
  },
  {
   "cell_type": "code",
   "execution_count": 2,
   "id": "8afeb10b-6646-41ca-ae45-7a788270a5e8",
   "metadata": {},
   "outputs": [],
   "source": [
    "df  = pd.read_csv(\"https://github.com/mpourhoma/CS4661/raw/master/Credit.csv\")"
   ]
  },
  {
   "cell_type": "code",
   "execution_count": 3,
   "id": "30c36288-7045-4e1b-a467-427b7aa7b81b",
   "metadata": {},
   "outputs": [
    {
     "data": {
      "text/html": [
       "<div>\n",
       "<style scoped>\n",
       "    .dataframe tbody tr th:only-of-type {\n",
       "        vertical-align: middle;\n",
       "    }\n",
       "\n",
       "    .dataframe tbody tr th {\n",
       "        vertical-align: top;\n",
       "    }\n",
       "\n",
       "    .dataframe thead th {\n",
       "        text-align: right;\n",
       "    }\n",
       "</style>\n",
       "<table border=\"1\" class=\"dataframe\">\n",
       "  <thead>\n",
       "    <tr style=\"text-align: right;\">\n",
       "      <th></th>\n",
       "      <th>Income</th>\n",
       "      <th>Limit</th>\n",
       "      <th>Rating</th>\n",
       "      <th>Cards</th>\n",
       "      <th>Age</th>\n",
       "      <th>Education</th>\n",
       "      <th>Married</th>\n",
       "      <th>Balance</th>\n",
       "    </tr>\n",
       "  </thead>\n",
       "  <tbody>\n",
       "    <tr>\n",
       "      <th>0</th>\n",
       "      <td>14.891</td>\n",
       "      <td>3606</td>\n",
       "      <td>283</td>\n",
       "      <td>2</td>\n",
       "      <td>34</td>\n",
       "      <td>11</td>\n",
       "      <td>1</td>\n",
       "      <td>333</td>\n",
       "    </tr>\n",
       "    <tr>\n",
       "      <th>1</th>\n",
       "      <td>106.025</td>\n",
       "      <td>6645</td>\n",
       "      <td>483</td>\n",
       "      <td>3</td>\n",
       "      <td>82</td>\n",
       "      <td>15</td>\n",
       "      <td>1</td>\n",
       "      <td>903</td>\n",
       "    </tr>\n",
       "    <tr>\n",
       "      <th>2</th>\n",
       "      <td>104.593</td>\n",
       "      <td>7075</td>\n",
       "      <td>514</td>\n",
       "      <td>4</td>\n",
       "      <td>71</td>\n",
       "      <td>11</td>\n",
       "      <td>0</td>\n",
       "      <td>580</td>\n",
       "    </tr>\n",
       "    <tr>\n",
       "      <th>3</th>\n",
       "      <td>148.924</td>\n",
       "      <td>9504</td>\n",
       "      <td>681</td>\n",
       "      <td>3</td>\n",
       "      <td>36</td>\n",
       "      <td>11</td>\n",
       "      <td>0</td>\n",
       "      <td>964</td>\n",
       "    </tr>\n",
       "    <tr>\n",
       "      <th>4</th>\n",
       "      <td>55.882</td>\n",
       "      <td>4897</td>\n",
       "      <td>357</td>\n",
       "      <td>2</td>\n",
       "      <td>68</td>\n",
       "      <td>16</td>\n",
       "      <td>1</td>\n",
       "      <td>331</td>\n",
       "    </tr>\n",
       "  </tbody>\n",
       "</table>\n",
       "</div>"
      ],
      "text/plain": [
       "    Income  Limit  Rating  Cards  Age  Education  Married  Balance\n",
       "0   14.891   3606     283      2   34         11        1      333\n",
       "1  106.025   6645     483      3   82         15        1      903\n",
       "2  104.593   7075     514      4   71         11        0      580\n",
       "3  148.924   9504     681      3   36         11        0      964\n",
       "4   55.882   4897     357      2   68         16        1      331"
      ]
     },
     "execution_count": 3,
     "metadata": {},
     "output_type": "execute_result"
    }
   ],
   "source": [
    "df.head()"
   ]
  },
  {
   "cell_type": "markdown",
   "id": "e45940b5-bb1b-49ec-b5ca-a394d3a59bcc",
   "metadata": {},
   "source": [
    "## Part C ##\n",
    "\n",
    "**Generate the feature matrix and target vector (target is “balance” in this dataset)**"
   ]
  },
  {
   "cell_type": "code",
   "execution_count": 4,
   "id": "9546cb86-afab-433f-816a-22cae1060e48",
   "metadata": {},
   "outputs": [],
   "source": [
    "# Generating feature matrix\n",
    "features = df.drop(columns=[\"Balance\"])  #all columns except \"balance\""
   ]
  },
  {
   "cell_type": "code",
   "execution_count": 5,
   "id": "4d378d68-ca6e-47eb-97e3-6307a0623d81",
   "metadata": {},
   "outputs": [],
   "source": [
    "#Generating target vector\n",
    "target = df[\"Balance\"]"
   ]
  },
  {
   "cell_type": "code",
   "execution_count": 6,
   "id": "aba8290e-f411-4bcb-a3c2-6578d9d3692c",
   "metadata": {},
   "outputs": [
    {
     "name": "stdout",
     "output_type": "stream",
     "text": [
      "Features (X):\n",
      "    Income  Limit  Rating  Cards  Age  Education  Married\n",
      "0   14.891   3606     283      2   34         11        1\n",
      "1  106.025   6645     483      3   82         15        1\n",
      "2  104.593   7075     514      4   71         11        0\n",
      "3  148.924   9504     681      3   36         11        0\n",
      "4   55.882   4897     357      2   68         16        1\n",
      "\n",
      "Target (y):\n",
      "0      333\n",
      "1      903\n",
      "2      580\n",
      "3      964\n",
      "4      331\n",
      "      ... \n",
      "395    560\n",
      "396    480\n",
      "397    138\n",
      "398      0\n",
      "399    966\n",
      "Name: Balance, Length: 400, dtype: int64\n"
     ]
    }
   ],
   "source": [
    "print(\"Features (X):\")\n",
    "print(features.head())\n",
    "\n",
    "print(\"\\nTarget (y):\")\n",
    "print(target)"
   ]
  },
  {
   "cell_type": "markdown",
   "id": "3dc277bd-dfa4-479f-b387-a463f0f00380",
   "metadata": {},
   "source": [
    "## Part D ##\n",
    "\n",
    "**Split the dataset into testing and training sets with the following parameters: test_size=0.24, random_state=9.**"
   ]
  },
  {
   "cell_type": "code",
   "execution_count": 7,
   "id": "302af485-2480-4a84-aa0b-7c4736a14bb3",
   "metadata": {},
   "outputs": [],
   "source": [
    "# Split the dataset into training and testing sets with corresponding parameters\n",
    "X_train, X_test, y_train, y_test = train_test_split(features, target, test_size=0.24, random_state=9)"
   ]
  },
  {
   "cell_type": "markdown",
   "id": "941cae36-43e6-40a2-aaab-d6fedbcc7f33",
   "metadata": {},
   "source": [
    "## Part E ##\n",
    "**Now, normalize (scale) the features. To normalize the data, you can simply use StandardScaler  from sklearn. (note: don’t normalize the target!). Remember that we can only use the statistics of X_train for normalization, and then apply it on both X_train and X_test**"
   ]
  },
  {
   "cell_type": "code",
   "execution_count": 8,
   "id": "f891a628-b8c4-49c1-a816-c27a61d728e2",
   "metadata": {},
   "outputs": [],
   "source": [
    "# Normalizing the data\n",
    "scaler = StandardScaler()\n",
    "X_train_normalized = scaler.fit_transform(X_train)\n",
    "X_test_normalized = scaler.transform(X_test)"
   ]
  },
  {
   "cell_type": "markdown",
   "id": "f9660ccd-f2f8-46bc-bb07-54b499f87783",
   "metadata": {},
   "source": [
    "## Part F ##\n",
    "**Use Linear Regression to train a linear model on the training set. Check the coefficients of the linear regression model. Which feature is the most important? Which feature is the least important?**"
   ]
  },
  {
   "cell_type": "code",
   "execution_count": 9,
   "id": "1fddcc33-58e1-488d-bdb6-e86e73bdad6c",
   "metadata": {},
   "outputs": [
    {
     "data": {
      "text/html": [
       "<style>#sk-container-id-1 {color: black;}#sk-container-id-1 pre{padding: 0;}#sk-container-id-1 div.sk-toggleable {background-color: white;}#sk-container-id-1 label.sk-toggleable__label {cursor: pointer;display: block;width: 100%;margin-bottom: 0;padding: 0.3em;box-sizing: border-box;text-align: center;}#sk-container-id-1 label.sk-toggleable__label-arrow:before {content: \"▸\";float: left;margin-right: 0.25em;color: #696969;}#sk-container-id-1 label.sk-toggleable__label-arrow:hover:before {color: black;}#sk-container-id-1 div.sk-estimator:hover label.sk-toggleable__label-arrow:before {color: black;}#sk-container-id-1 div.sk-toggleable__content {max-height: 0;max-width: 0;overflow: hidden;text-align: left;background-color: #f0f8ff;}#sk-container-id-1 div.sk-toggleable__content pre {margin: 0.2em;color: black;border-radius: 0.25em;background-color: #f0f8ff;}#sk-container-id-1 input.sk-toggleable__control:checked~div.sk-toggleable__content {max-height: 200px;max-width: 100%;overflow: auto;}#sk-container-id-1 input.sk-toggleable__control:checked~label.sk-toggleable__label-arrow:before {content: \"▾\";}#sk-container-id-1 div.sk-estimator input.sk-toggleable__control:checked~label.sk-toggleable__label {background-color: #d4ebff;}#sk-container-id-1 div.sk-label input.sk-toggleable__control:checked~label.sk-toggleable__label {background-color: #d4ebff;}#sk-container-id-1 input.sk-hidden--visually {border: 0;clip: rect(1px 1px 1px 1px);clip: rect(1px, 1px, 1px, 1px);height: 1px;margin: -1px;overflow: hidden;padding: 0;position: absolute;width: 1px;}#sk-container-id-1 div.sk-estimator {font-family: monospace;background-color: #f0f8ff;border: 1px dotted black;border-radius: 0.25em;box-sizing: border-box;margin-bottom: 0.5em;}#sk-container-id-1 div.sk-estimator:hover {background-color: #d4ebff;}#sk-container-id-1 div.sk-parallel-item::after {content: \"\";width: 100%;border-bottom: 1px solid gray;flex-grow: 1;}#sk-container-id-1 div.sk-label:hover label.sk-toggleable__label {background-color: #d4ebff;}#sk-container-id-1 div.sk-serial::before {content: \"\";position: absolute;border-left: 1px solid gray;box-sizing: border-box;top: 0;bottom: 0;left: 50%;z-index: 0;}#sk-container-id-1 div.sk-serial {display: flex;flex-direction: column;align-items: center;background-color: white;padding-right: 0.2em;padding-left: 0.2em;position: relative;}#sk-container-id-1 div.sk-item {position: relative;z-index: 1;}#sk-container-id-1 div.sk-parallel {display: flex;align-items: stretch;justify-content: center;background-color: white;position: relative;}#sk-container-id-1 div.sk-item::before, #sk-container-id-1 div.sk-parallel-item::before {content: \"\";position: absolute;border-left: 1px solid gray;box-sizing: border-box;top: 0;bottom: 0;left: 50%;z-index: -1;}#sk-container-id-1 div.sk-parallel-item {display: flex;flex-direction: column;z-index: 1;position: relative;background-color: white;}#sk-container-id-1 div.sk-parallel-item:first-child::after {align-self: flex-end;width: 50%;}#sk-container-id-1 div.sk-parallel-item:last-child::after {align-self: flex-start;width: 50%;}#sk-container-id-1 div.sk-parallel-item:only-child::after {width: 0;}#sk-container-id-1 div.sk-dashed-wrapped {border: 1px dashed gray;margin: 0 0.4em 0.5em 0.4em;box-sizing: border-box;padding-bottom: 0.4em;background-color: white;}#sk-container-id-1 div.sk-label label {font-family: monospace;font-weight: bold;display: inline-block;line-height: 1.2em;}#sk-container-id-1 div.sk-label-container {text-align: center;}#sk-container-id-1 div.sk-container {/* jupyter's `normalize.less` sets `[hidden] { display: none; }` but bootstrap.min.css set `[hidden] { display: none !important; }` so we also need the `!important` here to be able to override the default hidden behavior on the sphinx rendered scikit-learn.org. See: https://github.com/scikit-learn/scikit-learn/issues/21755 */display: inline-block !important;position: relative;}#sk-container-id-1 div.sk-text-repr-fallback {display: none;}</style><div id=\"sk-container-id-1\" class=\"sk-top-container\"><div class=\"sk-text-repr-fallback\"><pre>LinearRegression()</pre><b>In a Jupyter environment, please rerun this cell to show the HTML representation or trust the notebook. <br />On GitHub, the HTML representation is unable to render, please try loading this page with nbviewer.org.</b></div><div class=\"sk-container\" hidden><div class=\"sk-item\"><div class=\"sk-estimator sk-toggleable\"><input class=\"sk-toggleable__control sk-hidden--visually\" id=\"sk-estimator-id-1\" type=\"checkbox\" checked><label for=\"sk-estimator-id-1\" class=\"sk-toggleable__label sk-toggleable__label-arrow\">LinearRegression</label><div class=\"sk-toggleable__content\"><pre>LinearRegression()</pre></div></div></div></div></div>"
      ],
      "text/plain": [
       "LinearRegression()"
      ]
     },
     "execution_count": 9,
     "metadata": {},
     "output_type": "execute_result"
    }
   ],
   "source": [
    "# Initializing the Linear Regression model\n",
    "my_linreg = LinearRegression()\n",
    "\n",
    "# Training the model on the training set\n",
    "my_linreg.fit(X_train_normalized, y_train)"
   ]
  },
  {
   "cell_type": "code",
   "execution_count": 10,
   "id": "b976f667-21e6-46ae-a320-0f1a339214dd",
   "metadata": {},
   "outputs": [
    {
     "name": "stdout",
     "output_type": "stream",
     "text": [
      "Coefficient:  [-280.2104277   373.75795782  261.94540404   24.83810299  -17.50870489\n",
      "   11.55110225   -9.90194703]\n"
     ]
    }
   ],
   "source": [
    "# Checking the coefficients of the linear regression model\n",
    "print(\"Coefficient: \", my_linreg.coef_)"
   ]
  },
  {
   "cell_type": "code",
   "execution_count": 11,
   "id": "a1f582d9-05c8-4dd7-95a4-58a851aef4be",
   "metadata": {},
   "outputs": [
    {
     "name": "stdout",
     "output_type": "stream",
     "text": [
      "Interception:  519.8585526315788\n"
     ]
    }
   ],
   "source": [
    "# Checking the Interception of the linear regression model\n",
    "print(\"Interception: \", my_linreg.intercept_)"
   ]
  },
  {
   "cell_type": "markdown",
   "id": "614605ae-42b0-4107-9f58-581ddbf1ee04",
   "metadata": {},
   "source": [
    "## Which feature is the most important? Which feature is the least important? ##"
   ]
  },
  {
   "cell_type": "markdown",
   "id": "19540e7a-b2cd-4112-8ed4-0bddbe29c65e",
   "metadata": {},
   "source": [
    "The most important feature, the one with the largest positive coefficient, is Limit\n",
    "<br>The least important feature, the one with the largest negative coefficient, is Married"
   ]
  },
  {
   "cell_type": "markdown",
   "id": "c3d63ba9-3bfa-4d34-a98b-ca6e5ad14774",
   "metadata": {},
   "source": [
    "## Part G ##\n",
    "**Predict “balance” for the users in testing set. Then, compare the predicted balance with the actual balance by calculating and reporting the RMSE (as we saw in lab tutorial 4)**"
   ]
  },
  {
   "cell_type": "code",
   "execution_count": 12,
   "id": "32269071-ed90-4ec5-953d-b53d9e880b13",
   "metadata": {},
   "outputs": [
    {
     "name": "stdout",
     "output_type": "stream",
     "text": [
      "[ 316.89813114  677.5093907   489.03669272  -49.82989971  706.42913216\n",
      "  864.96954115  897.65752581  108.20297732 -213.73474279  834.94198677\n",
      "   11.05109139 -227.34447869  472.01450822    4.54554458 -228.17349827\n",
      "  956.21537845  896.91570524  821.97824267   18.37144232  857.31517013\n",
      " 1028.30326279  699.22168497 1176.9426756   666.28578465  643.94064891\n",
      "  690.63628696  589.35273903  -29.37237394  575.15444917  406.78468032\n",
      "  845.81453327  828.30862904   82.2376206   953.40592514 -184.74828227\n",
      "  525.84335889 1045.19205022  535.04104472  107.26753118 -172.8968111\n",
      "  497.84037664 1155.35533939  429.08674601  403.49872552  143.72087313\n",
      "  764.78737012  431.24114308 1304.79656588  475.00132057   95.75404622\n",
      " -215.69000296    5.62900657  313.88797405  859.9328932   792.27147016\n",
      " 1029.90210771 1500.40180297 1078.48617624  713.37981473 1072.97948262\n",
      "  -64.12187718  488.60063387   92.3601712   440.414465    277.13284667\n",
      " 1075.41508762  258.10181743  773.89657462  278.12447916  409.51029492\n",
      "  335.56674013  989.87781589  978.31940615 1042.6230052   915.82319179\n",
      "  150.95645254  516.7089988   733.47654088   74.84330655  556.47429962\n",
      " 1096.60831626  359.12494251  204.54562103  407.76115868  113.50656023\n",
      "  958.07237887  934.59051997    2.98452112 1627.80317193  636.31395153\n",
      "  688.17824441  711.80910955  293.66354104 -219.28997401  -91.76701391\n",
      " -149.31642723]\n"
     ]
    }
   ],
   "source": [
    "y_prediction = my_linreg.predict(X_test_normalized)\n",
    "\n",
    "print(y_prediction)"
   ]
  },
  {
   "cell_type": "code",
   "execution_count": 13,
   "id": "9a7a2494-546c-4457-b354-c049f33fe22d",
   "metadata": {},
   "outputs": [
    {
     "name": "stdout",
     "output_type": "stream",
     "text": [
      "143.2464973964228\n"
     ]
    }
   ],
   "source": [
    "from sklearn import metrics\n",
    "import numpy as np\n",
    "\n",
    "# Calculating \"Mean Square Error\" (MSE):\n",
    "mse = metrics.mean_squared_error(y_test, y_prediction)\n",
    "rmse = np.sqrt(mse)\n",
    "\n",
    "print(rmse)"
   ]
  },
  {
   "cell_type": "markdown",
   "id": "0611cb2c-7107-4d32-bd34-a104fd7c0b03",
   "metadata": {},
   "source": [
    "## Part H ##\n",
    "**Now, use 10-fold Cross-Validation to evaluate the performance of a linear regression in predicting the balance. Thus, rather than splitting the dataset into testing and training, use Cross-Validation to evaluate the regression performance. Note that the implementation of CV along with Normalization is a little tricky because we need to normalize (Scale) the data for each round of the CV individually! Fortunately, sklearn offers pipelines for these types of problems (below). What is the RMSE when you use cross validation?**"
   ]
  },
  {
   "cell_type": "code",
   "execution_count": 16,
   "id": "912042c7-a007-4b3d-95c4-296a44043199",
   "metadata": {},
   "outputs": [],
   "source": [
    "from sklearn.pipeline import make_pipeline\n",
    "from sklearn.model_selection import cross_val_score\n",
    "\n",
    "clf = make_pipeline(StandardScaler(), my_linreg)\n",
    "mse_list = cross_val_score(clf, features, target, cv=10, scoring='neg_mean_squared_error')"
   ]
  },
  {
   "cell_type": "code",
   "execution_count": 17,
   "id": "2ac984c2-5d50-47b1-89b2-6b91858a2640",
   "metadata": {},
   "outputs": [
    {
     "name": "stdout",
     "output_type": "stream",
     "text": [
      "[-23646.90415343 -32003.04401232 -35462.64435619 -37327.60719635\n",
      " -14341.32205939 -33628.37104224 -31631.99317834 -12491.00334951\n",
      " -20749.61212175 -23204.94743459]\n"
     ]
    }
   ],
   "source": [
    "print(mse_list)"
   ]
  },
  {
   "cell_type": "code",
   "execution_count": 18,
   "id": "f61d2b8a-2ddc-462c-9400-d27003d1333c",
   "metadata": {},
   "outputs": [
    {
     "name": "stdout",
     "output_type": "stream",
     "text": [
      "160.3319891074414\n"
     ]
    }
   ],
   "source": [
    "mse_list_pos = - mse_list\n",
    "rmse_list = np.sqrt(mse_list_pos)\n",
    "\n",
    "print(rmse_list.mean())"
   ]
  },
  {
   "cell_type": "code",
   "execution_count": null,
   "id": "71859a5f-08bb-46bd-b5b9-2a89257162d6",
   "metadata": {},
   "outputs": [],
   "source": []
  }
 ],
 "metadata": {
  "kernelspec": {
   "display_name": "Python 3 (ipykernel)",
   "language": "python",
   "name": "python3"
  },
  "language_info": {
   "codemirror_mode": {
    "name": "ipython",
    "version": 3
   },
   "file_extension": ".py",
   "mimetype": "text/x-python",
   "name": "python",
   "nbconvert_exporter": "python",
   "pygments_lexer": "ipython3",
   "version": "3.11.3"
  }
 },
 "nbformat": 4,
 "nbformat_minor": 5
}
